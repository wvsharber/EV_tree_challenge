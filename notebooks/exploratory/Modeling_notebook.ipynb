{
 "cells": [
  {
   "cell_type": "code",
   "execution_count": 1,
   "metadata": {},
   "outputs": [],
   "source": [
    "import numpy as np\n",
    "import cv2\n",
    "import pandas as pd\n",
    "from skimage.filters import roberts, sobel, scharr, prewitt\n",
    "from scipy import ndimage as nd\n",
    "from sklearn.ensemble import RandomForestClassifier\n",
    "import rasterio as rio\n",
    "from sklearn.model_selection import train_test_split\n",
    "import pickle"
   ]
  },
  {
   "cell_type": "code",
   "execution_count": 4,
   "metadata": {},
   "outputs": [],
   "source": [
    "img = cv2.imread('../../data/data/ortho_train.tif')"
   ]
  },
  {
   "cell_type": "code",
   "execution_count": 69,
   "metadata": {},
   "outputs": [
    {
     "data": {
      "text/plain": [
       "(7068, 5160, 3)"
      ]
     },
     "execution_count": 69,
     "metadata": {},
     "output_type": "execute_result"
    }
   ],
   "source": [
    "img.shape"
   ]
  },
  {
   "cell_type": "code",
   "execution_count": 5,
   "metadata": {},
   "outputs": [],
   "source": [
    "imgB = img[:, :, 0]\n",
    "imgG = img[:, :, 1]\n",
    "imgR = img[:, :, 2]"
   ]
  },
  {
   "cell_type": "code",
   "execution_count": 6,
   "metadata": {},
   "outputs": [],
   "source": [
    "imgB1 = imgB.reshape(-1)\n",
    "imgG1 = imgG.reshape(-1)\n",
    "imgR1 = imgR.reshape(-1)"
   ]
  },
  {
   "cell_type": "code",
   "execution_count": 7,
   "metadata": {},
   "outputs": [],
   "source": [
    "df = pd.DataFrame()"
   ]
  },
  {
   "cell_type": "code",
   "execution_count": 8,
   "metadata": {},
   "outputs": [],
   "source": [
    "df['original_imgB'] = imgB1\n",
    "df['original_imgG'] = imgG1\n",
    "df['original_imgR'] = imgR1"
   ]
  },
  {
   "cell_type": "code",
   "execution_count": 9,
   "metadata": {},
   "outputs": [],
   "source": [
    "def Gabor_features(df, img, label):\n",
    "    num = 1  #To count numbers up in order to give Gabor features a lable in the data frame\n",
    "    kernels = []  #Create empty list to hold all kernels that we will generate in a loop\n",
    "    for theta in range(2):   #Define number of thetas. Here only 2 theta values 0 and 1/4 . pi \n",
    "        theta = theta / 4. * np.pi\n",
    "        for sigma in (1, 3):  #Sigma with values of 1 and 3\n",
    "            for lamda in np.arange(0, np.pi, np.pi / 4):   #Range of wavelengths\n",
    "                for gamma in (0.05, 0.5):   #Gamma values of 0.05 and 0.5\n",
    "\n",
    "                    gabor_label = f'Gabor_{label}' + str(num)  #Label Gabor columns as Gabor1, Gabor2, etc.\n",
    "                    print(gabor_label)\n",
    "                    ksize=9\n",
    "                    kernel = cv2.getGaborKernel((ksize, ksize), sigma, theta, lamda, gamma, 0, ktype=cv2.CV_32F)    \n",
    "                    kernels.append(kernel)\n",
    "                    #Now filter the image and add values to a new column \n",
    "                    fimg = cv2.filter2D(img, cv2.CV_8UC3, kernel)\n",
    "                    filtered_img = fimg.reshape(-1)\n",
    "                    df[gabor_label] = filtered_img  #Labels columns as Gabor1, Gabor2, etc.\n",
    "                    print(gabor_label, ': theta=', theta, ': sigma=', sigma, ': lamda=', lamda, ': gamma=', gamma)\n",
    "                    num += 1  #Increment for gabor column label\n",
    "    return df"
   ]
  },
  {
   "cell_type": "code",
   "execution_count": 10,
   "metadata": {},
   "outputs": [
    {
     "name": "stdout",
     "output_type": "stream",
     "text": [
      "Gabor_B1\n",
      "Gabor_B1 : theta= 0.0 : sigma= 1 : lamda= 0.0 : gamma= 0.05\n",
      "Gabor_B2\n",
      "Gabor_B2 : theta= 0.0 : sigma= 1 : lamda= 0.0 : gamma= 0.5\n",
      "Gabor_B3\n",
      "Gabor_B3 : theta= 0.0 : sigma= 1 : lamda= 0.7853981633974483 : gamma= 0.05\n",
      "Gabor_B4\n",
      "Gabor_B4 : theta= 0.0 : sigma= 1 : lamda= 0.7853981633974483 : gamma= 0.5\n",
      "Gabor_B5\n",
      "Gabor_B5 : theta= 0.0 : sigma= 1 : lamda= 1.5707963267948966 : gamma= 0.05\n",
      "Gabor_B6\n",
      "Gabor_B6 : theta= 0.0 : sigma= 1 : lamda= 1.5707963267948966 : gamma= 0.5\n",
      "Gabor_B7\n",
      "Gabor_B7 : theta= 0.0 : sigma= 1 : lamda= 2.356194490192345 : gamma= 0.05\n",
      "Gabor_B8\n",
      "Gabor_B8 : theta= 0.0 : sigma= 1 : lamda= 2.356194490192345 : gamma= 0.5\n",
      "Gabor_B9\n",
      "Gabor_B9 : theta= 0.0 : sigma= 3 : lamda= 0.0 : gamma= 0.05\n",
      "Gabor_B10\n",
      "Gabor_B10 : theta= 0.0 : sigma= 3 : lamda= 0.0 : gamma= 0.5\n",
      "Gabor_B11\n",
      "Gabor_B11 : theta= 0.0 : sigma= 3 : lamda= 0.7853981633974483 : gamma= 0.05\n",
      "Gabor_B12\n",
      "Gabor_B12 : theta= 0.0 : sigma= 3 : lamda= 0.7853981633974483 : gamma= 0.5\n",
      "Gabor_B13\n",
      "Gabor_B13 : theta= 0.0 : sigma= 3 : lamda= 1.5707963267948966 : gamma= 0.05\n",
      "Gabor_B14\n",
      "Gabor_B14 : theta= 0.0 : sigma= 3 : lamda= 1.5707963267948966 : gamma= 0.5\n",
      "Gabor_B15\n",
      "Gabor_B15 : theta= 0.0 : sigma= 3 : lamda= 2.356194490192345 : gamma= 0.05\n",
      "Gabor_B16\n",
      "Gabor_B16 : theta= 0.0 : sigma= 3 : lamda= 2.356194490192345 : gamma= 0.5\n",
      "Gabor_B17\n",
      "Gabor_B17 : theta= 0.7853981633974483 : sigma= 1 : lamda= 0.0 : gamma= 0.05\n",
      "Gabor_B18\n",
      "Gabor_B18 : theta= 0.7853981633974483 : sigma= 1 : lamda= 0.0 : gamma= 0.5\n",
      "Gabor_B19\n",
      "Gabor_B19 : theta= 0.7853981633974483 : sigma= 1 : lamda= 0.7853981633974483 : gamma= 0.05\n",
      "Gabor_B20\n",
      "Gabor_B20 : theta= 0.7853981633974483 : sigma= 1 : lamda= 0.7853981633974483 : gamma= 0.5\n",
      "Gabor_B21\n",
      "Gabor_B21 : theta= 0.7853981633974483 : sigma= 1 : lamda= 1.5707963267948966 : gamma= 0.05\n",
      "Gabor_B22\n",
      "Gabor_B22 : theta= 0.7853981633974483 : sigma= 1 : lamda= 1.5707963267948966 : gamma= 0.5\n",
      "Gabor_B23\n",
      "Gabor_B23 : theta= 0.7853981633974483 : sigma= 1 : lamda= 2.356194490192345 : gamma= 0.05\n",
      "Gabor_B24\n",
      "Gabor_B24 : theta= 0.7853981633974483 : sigma= 1 : lamda= 2.356194490192345 : gamma= 0.5\n",
      "Gabor_B25\n",
      "Gabor_B25 : theta= 0.7853981633974483 : sigma= 3 : lamda= 0.0 : gamma= 0.05\n",
      "Gabor_B26\n",
      "Gabor_B26 : theta= 0.7853981633974483 : sigma= 3 : lamda= 0.0 : gamma= 0.5\n",
      "Gabor_B27\n",
      "Gabor_B27 : theta= 0.7853981633974483 : sigma= 3 : lamda= 0.7853981633974483 : gamma= 0.05\n",
      "Gabor_B28\n",
      "Gabor_B28 : theta= 0.7853981633974483 : sigma= 3 : lamda= 0.7853981633974483 : gamma= 0.5\n",
      "Gabor_B29\n",
      "Gabor_B29 : theta= 0.7853981633974483 : sigma= 3 : lamda= 1.5707963267948966 : gamma= 0.05\n",
      "Gabor_B30\n",
      "Gabor_B30 : theta= 0.7853981633974483 : sigma= 3 : lamda= 1.5707963267948966 : gamma= 0.5\n",
      "Gabor_B31\n",
      "Gabor_B31 : theta= 0.7853981633974483 : sigma= 3 : lamda= 2.356194490192345 : gamma= 0.05\n",
      "Gabor_B32\n",
      "Gabor_B32 : theta= 0.7853981633974483 : sigma= 3 : lamda= 2.356194490192345 : gamma= 0.5\n",
      "Gabor_G1\n",
      "Gabor_G1 : theta= 0.0 : sigma= 1 : lamda= 0.0 : gamma= 0.05\n",
      "Gabor_G2\n",
      "Gabor_G2 : theta= 0.0 : sigma= 1 : lamda= 0.0 : gamma= 0.5\n",
      "Gabor_G3\n",
      "Gabor_G3 : theta= 0.0 : sigma= 1 : lamda= 0.7853981633974483 : gamma= 0.05\n",
      "Gabor_G4\n",
      "Gabor_G4 : theta= 0.0 : sigma= 1 : lamda= 0.7853981633974483 : gamma= 0.5\n",
      "Gabor_G5\n",
      "Gabor_G5 : theta= 0.0 : sigma= 1 : lamda= 1.5707963267948966 : gamma= 0.05\n",
      "Gabor_G6\n",
      "Gabor_G6 : theta= 0.0 : sigma= 1 : lamda= 1.5707963267948966 : gamma= 0.5\n",
      "Gabor_G7\n",
      "Gabor_G7 : theta= 0.0 : sigma= 1 : lamda= 2.356194490192345 : gamma= 0.05\n",
      "Gabor_G8\n",
      "Gabor_G8 : theta= 0.0 : sigma= 1 : lamda= 2.356194490192345 : gamma= 0.5\n",
      "Gabor_G9\n",
      "Gabor_G9 : theta= 0.0 : sigma= 3 : lamda= 0.0 : gamma= 0.05\n",
      "Gabor_G10\n",
      "Gabor_G10 : theta= 0.0 : sigma= 3 : lamda= 0.0 : gamma= 0.5\n",
      "Gabor_G11\n",
      "Gabor_G11 : theta= 0.0 : sigma= 3 : lamda= 0.7853981633974483 : gamma= 0.05\n",
      "Gabor_G12\n",
      "Gabor_G12 : theta= 0.0 : sigma= 3 : lamda= 0.7853981633974483 : gamma= 0.5\n",
      "Gabor_G13\n",
      "Gabor_G13 : theta= 0.0 : sigma= 3 : lamda= 1.5707963267948966 : gamma= 0.05\n",
      "Gabor_G14\n",
      "Gabor_G14 : theta= 0.0 : sigma= 3 : lamda= 1.5707963267948966 : gamma= 0.5\n",
      "Gabor_G15\n",
      "Gabor_G15 : theta= 0.0 : sigma= 3 : lamda= 2.356194490192345 : gamma= 0.05\n",
      "Gabor_G16\n",
      "Gabor_G16 : theta= 0.0 : sigma= 3 : lamda= 2.356194490192345 : gamma= 0.5\n",
      "Gabor_G17\n",
      "Gabor_G17 : theta= 0.7853981633974483 : sigma= 1 : lamda= 0.0 : gamma= 0.05\n",
      "Gabor_G18\n",
      "Gabor_G18 : theta= 0.7853981633974483 : sigma= 1 : lamda= 0.0 : gamma= 0.5\n",
      "Gabor_G19\n",
      "Gabor_G19 : theta= 0.7853981633974483 : sigma= 1 : lamda= 0.7853981633974483 : gamma= 0.05\n",
      "Gabor_G20\n",
      "Gabor_G20 : theta= 0.7853981633974483 : sigma= 1 : lamda= 0.7853981633974483 : gamma= 0.5\n",
      "Gabor_G21\n",
      "Gabor_G21 : theta= 0.7853981633974483 : sigma= 1 : lamda= 1.5707963267948966 : gamma= 0.05\n",
      "Gabor_G22\n",
      "Gabor_G22 : theta= 0.7853981633974483 : sigma= 1 : lamda= 1.5707963267948966 : gamma= 0.5\n",
      "Gabor_G23\n",
      "Gabor_G23 : theta= 0.7853981633974483 : sigma= 1 : lamda= 2.356194490192345 : gamma= 0.05\n",
      "Gabor_G24\n",
      "Gabor_G24 : theta= 0.7853981633974483 : sigma= 1 : lamda= 2.356194490192345 : gamma= 0.5\n",
      "Gabor_G25\n",
      "Gabor_G25 : theta= 0.7853981633974483 : sigma= 3 : lamda= 0.0 : gamma= 0.05\n",
      "Gabor_G26\n",
      "Gabor_G26 : theta= 0.7853981633974483 : sigma= 3 : lamda= 0.0 : gamma= 0.5\n",
      "Gabor_G27\n",
      "Gabor_G27 : theta= 0.7853981633974483 : sigma= 3 : lamda= 0.7853981633974483 : gamma= 0.05\n",
      "Gabor_G28\n",
      "Gabor_G28 : theta= 0.7853981633974483 : sigma= 3 : lamda= 0.7853981633974483 : gamma= 0.5\n",
      "Gabor_G29\n",
      "Gabor_G29 : theta= 0.7853981633974483 : sigma= 3 : lamda= 1.5707963267948966 : gamma= 0.05\n",
      "Gabor_G30\n",
      "Gabor_G30 : theta= 0.7853981633974483 : sigma= 3 : lamda= 1.5707963267948966 : gamma= 0.5\n",
      "Gabor_G31\n",
      "Gabor_G31 : theta= 0.7853981633974483 : sigma= 3 : lamda= 2.356194490192345 : gamma= 0.05\n",
      "Gabor_G32\n",
      "Gabor_G32 : theta= 0.7853981633974483 : sigma= 3 : lamda= 2.356194490192345 : gamma= 0.5\n",
      "Gabor_R1\n",
      "Gabor_R1 : theta= 0.0 : sigma= 1 : lamda= 0.0 : gamma= 0.05\n",
      "Gabor_R2\n",
      "Gabor_R2 : theta= 0.0 : sigma= 1 : lamda= 0.0 : gamma= 0.5\n",
      "Gabor_R3\n",
      "Gabor_R3 : theta= 0.0 : sigma= 1 : lamda= 0.7853981633974483 : gamma= 0.05\n",
      "Gabor_R4\n",
      "Gabor_R4 : theta= 0.0 : sigma= 1 : lamda= 0.7853981633974483 : gamma= 0.5\n",
      "Gabor_R5\n",
      "Gabor_R5 : theta= 0.0 : sigma= 1 : lamda= 1.5707963267948966 : gamma= 0.05\n",
      "Gabor_R6\n",
      "Gabor_R6 : theta= 0.0 : sigma= 1 : lamda= 1.5707963267948966 : gamma= 0.5\n",
      "Gabor_R7\n",
      "Gabor_R7 : theta= 0.0 : sigma= 1 : lamda= 2.356194490192345 : gamma= 0.05\n",
      "Gabor_R8\n",
      "Gabor_R8 : theta= 0.0 : sigma= 1 : lamda= 2.356194490192345 : gamma= 0.5\n",
      "Gabor_R9\n",
      "Gabor_R9 : theta= 0.0 : sigma= 3 : lamda= 0.0 : gamma= 0.05\n",
      "Gabor_R10\n",
      "Gabor_R10 : theta= 0.0 : sigma= 3 : lamda= 0.0 : gamma= 0.5\n",
      "Gabor_R11\n",
      "Gabor_R11 : theta= 0.0 : sigma= 3 : lamda= 0.7853981633974483 : gamma= 0.05\n",
      "Gabor_R12\n",
      "Gabor_R12 : theta= 0.0 : sigma= 3 : lamda= 0.7853981633974483 : gamma= 0.5\n",
      "Gabor_R13\n",
      "Gabor_R13 : theta= 0.0 : sigma= 3 : lamda= 1.5707963267948966 : gamma= 0.05\n",
      "Gabor_R14\n",
      "Gabor_R14 : theta= 0.0 : sigma= 3 : lamda= 1.5707963267948966 : gamma= 0.5\n",
      "Gabor_R15\n",
      "Gabor_R15 : theta= 0.0 : sigma= 3 : lamda= 2.356194490192345 : gamma= 0.05\n",
      "Gabor_R16\n",
      "Gabor_R16 : theta= 0.0 : sigma= 3 : lamda= 2.356194490192345 : gamma= 0.5\n",
      "Gabor_R17\n",
      "Gabor_R17 : theta= 0.7853981633974483 : sigma= 1 : lamda= 0.0 : gamma= 0.05\n",
      "Gabor_R18\n",
      "Gabor_R18 : theta= 0.7853981633974483 : sigma= 1 : lamda= 0.0 : gamma= 0.5\n",
      "Gabor_R19\n",
      "Gabor_R19 : theta= 0.7853981633974483 : sigma= 1 : lamda= 0.7853981633974483 : gamma= 0.05\n",
      "Gabor_R20\n",
      "Gabor_R20 : theta= 0.7853981633974483 : sigma= 1 : lamda= 0.7853981633974483 : gamma= 0.5\n",
      "Gabor_R21\n",
      "Gabor_R21 : theta= 0.7853981633974483 : sigma= 1 : lamda= 1.5707963267948966 : gamma= 0.05\n",
      "Gabor_R22\n",
      "Gabor_R22 : theta= 0.7853981633974483 : sigma= 1 : lamda= 1.5707963267948966 : gamma= 0.5\n",
      "Gabor_R23\n",
      "Gabor_R23 : theta= 0.7853981633974483 : sigma= 1 : lamda= 2.356194490192345 : gamma= 0.05\n",
      "Gabor_R24\n",
      "Gabor_R24 : theta= 0.7853981633974483 : sigma= 1 : lamda= 2.356194490192345 : gamma= 0.5\n",
      "Gabor_R25\n",
      "Gabor_R25 : theta= 0.7853981633974483 : sigma= 3 : lamda= 0.0 : gamma= 0.05\n",
      "Gabor_R26\n",
      "Gabor_R26 : theta= 0.7853981633974483 : sigma= 3 : lamda= 0.0 : gamma= 0.5\n",
      "Gabor_R27\n",
      "Gabor_R27 : theta= 0.7853981633974483 : sigma= 3 : lamda= 0.7853981633974483 : gamma= 0.05\n",
      "Gabor_R28\n",
      "Gabor_R28 : theta= 0.7853981633974483 : sigma= 3 : lamda= 0.7853981633974483 : gamma= 0.5\n",
      "Gabor_R29\n",
      "Gabor_R29 : theta= 0.7853981633974483 : sigma= 3 : lamda= 1.5707963267948966 : gamma= 0.05\n",
      "Gabor_R30\n"
     ]
    },
    {
     "name": "stdout",
     "output_type": "stream",
     "text": [
      "Gabor_R30 : theta= 0.7853981633974483 : sigma= 3 : lamda= 1.5707963267948966 : gamma= 0.5\n",
      "Gabor_R31\n",
      "Gabor_R31 : theta= 0.7853981633974483 : sigma= 3 : lamda= 2.356194490192345 : gamma= 0.05\n",
      "Gabor_R32\n",
      "Gabor_R32 : theta= 0.7853981633974483 : sigma= 3 : lamda= 2.356194490192345 : gamma= 0.5\n"
     ]
    }
   ],
   "source": [
    "for ind, val in enumerate([imgB1, imgG1, imgR1]):\n",
    "    labels = ['B', 'G' , 'R']\n",
    "    df = Gabor_features(df, val, labels[ind])"
   ]
  },
  {
   "cell_type": "code",
   "execution_count": 11,
   "metadata": {},
   "outputs": [],
   "source": [
    "def extract_features(df, img, label):\n",
    "    \n",
    "    #Canny Edge\n",
    "    print(f\"Calculating Canny Edge for {label}\")\n",
    "    edges = cv2.Canny(img, 100,200)   #Image, min and max values\n",
    "    edges1 = edges.reshape(-1)\n",
    "    df[f'Canny Edge_{label}'] = edges1 #Add column to original dataframe\n",
    "    \n",
    "    #ROBERTS EDGE\n",
    "    print(f\"Calculating Robert's Edge for {label}\")\n",
    "    edge_roberts = roberts(img)\n",
    "    edge_roberts1 = edge_roberts.reshape(-1)\n",
    "    df[f'Roberts_{label}'] = edge_roberts1\n",
    "\n",
    "    #SOBEL\n",
    "    print(f\"Calculating Sobel Edge for {label}\")\n",
    "    edge_sobel = sobel(img)\n",
    "    edge_sobel1 = edge_sobel.reshape(-1)\n",
    "    df[f'Sobel_{label}'] = edge_sobel1\n",
    "\n",
    "    #SCHARR\n",
    "    print(f\"Calculating Scharr Edge for {label}\")\n",
    "    edge_scharr = scharr(img)\n",
    "    edge_scharr1 = edge_scharr.reshape(-1)\n",
    "    df[f'Scharr_{label}'] = edge_scharr1\n",
    "\n",
    "    #PREWITT\n",
    "    print(f\"Calculating Prewitt Edge for {label}\")\n",
    "    edge_prewitt = prewitt(img)\n",
    "    edge_prewitt1 = edge_prewitt.reshape(-1)\n",
    "    df[f'Prewitt_{label}'] = edge_prewitt1\n",
    "\n",
    "    #GAUSSIAN with sigma=3\n",
    "    print(f\"Calculating Gaussian Filter (sigma 3) for {label}\")\n",
    "    gaussian_img = nd.gaussian_filter(img, sigma=3)\n",
    "    gaussian_img1 = gaussian_img.reshape(-1)\n",
    "    df[f'Gaussian_s3_{label}'] = gaussian_img1\n",
    "\n",
    "    #GAUSSIAN with sigma=7\n",
    "    print(f\"Calculating Gaussian Filter (sigma 7) for {label}\")\n",
    "    gaussian_img2 = nd.gaussian_filter(img, sigma=7)\n",
    "    gaussian_img3 = gaussian_img2.reshape(-1)\n",
    "    df[f'Gaussian_s7_{label}'] = gaussian_img3\n",
    "\n",
    "    #MEDIAN with sigma=3\n",
    "    print(f\"Calculating Median Filter (sigma 3) for {label}\")\n",
    "    median_img = nd.median_filter(img, size=3)\n",
    "    median_img1 = median_img.reshape(-1)\n",
    "    df[f'Median_s3_{label}'] = median_img1\n",
    "\n",
    "    #VARIANCE with size=3\n",
    "    print(f\"Calculating Variance Filter (sigma 3) for {label}\")\n",
    "    variance_img = nd.generic_filter(img, np.var, size=3)\n",
    "    variance_img1 = variance_img.reshape(-1)\n",
    "    df[f'Variance_s3_{label}'] = variance_img1  #Add column to original dataframe\n",
    "    \n",
    "    return df"
   ]
  },
  {
   "cell_type": "code",
   "execution_count": 12,
   "metadata": {},
   "outputs": [
    {
     "name": "stdout",
     "output_type": "stream",
     "text": [
      "Calculating Canny Edge for B\n",
      "Calculating Robert's Edge for B\n",
      "Calculating Sobel Edge for B\n",
      "Calculating Scharr Edge for B\n",
      "Calculating Prewitt Edge for B\n",
      "Calculating Gaussian Filter (sigma 3) for B\n",
      "Calculating Gaussian Filter (sigma 7) for B\n",
      "Calculating Median Filter (sigma 3) for B\n",
      "Calculating Variance Filter (sigma 3) for B\n",
      "Calculating Canny Edge for G\n",
      "Calculating Robert's Edge for G\n",
      "Calculating Sobel Edge for G\n",
      "Calculating Scharr Edge for G\n",
      "Calculating Prewitt Edge for G\n",
      "Calculating Gaussian Filter (sigma 3) for G\n",
      "Calculating Gaussian Filter (sigma 7) for G\n",
      "Calculating Median Filter (sigma 3) for G\n",
      "Calculating Variance Filter (sigma 3) for G\n",
      "Calculating Canny Edge for R\n",
      "Calculating Robert's Edge for R\n",
      "Calculating Sobel Edge for R\n",
      "Calculating Scharr Edge for R\n",
      "Calculating Prewitt Edge for R\n",
      "Calculating Gaussian Filter (sigma 3) for R\n",
      "Calculating Gaussian Filter (sigma 7) for R\n",
      "Calculating Median Filter (sigma 3) for R\n",
      "Calculating Variance Filter (sigma 3) for R\n"
     ]
    }
   ],
   "source": [
    "for ind, val in enumerate([imgB, imgG, imgR]):\n",
    "    labels = ['B', 'G' , 'R']\n",
    "    df = extract_features(df, val, labels[ind])"
   ]
  },
  {
   "cell_type": "code",
   "execution_count": 13,
   "metadata": {},
   "outputs": [
    {
     "data": {
      "text/plain": [
       "(36470880, 126)"
      ]
     },
     "execution_count": 13,
     "metadata": {},
     "output_type": "execute_result"
    }
   ],
   "source": [
    "df.shape"
   ]
  },
  {
   "cell_type": "code",
   "execution_count": 14,
   "metadata": {},
   "outputs": [],
   "source": [
    "with rio.open(\"../../data/data/tree_mask_train.tif\") as tm:\n",
    "    labeled_img = tm.read(1)"
   ]
  },
  {
   "cell_type": "code",
   "execution_count": 15,
   "metadata": {},
   "outputs": [
    {
     "data": {
      "text/plain": [
       "array([[0., 0., 0., ..., 0., 0., 0.],\n",
       "       [0., 0., 0., ..., 0., 0., 0.],\n",
       "       [0., 0., 0., ..., 0., 0., 0.],\n",
       "       ...,\n",
       "       [0., 0., 0., ..., 0., 0., 0.],\n",
       "       [0., 0., 0., ..., 0., 0., 0.],\n",
       "       [0., 0., 0., ..., 0., 0., 0.]], dtype=float32)"
      ]
     },
     "execution_count": 15,
     "metadata": {},
     "output_type": "execute_result"
    }
   ],
   "source": [
    "labeled_img"
   ]
  },
  {
   "cell_type": "code",
   "execution_count": 16,
   "metadata": {},
   "outputs": [],
   "source": [
    "labeled_img1 = labeled_img.reshape(-1)\n",
    "df['Labels'] = labeled_img1"
   ]
  },
  {
   "cell_type": "code",
   "execution_count": 20,
   "metadata": {},
   "outputs": [],
   "source": [
    "with open(\"../../data/dataframe.pkl\", 'wb') as out:\n",
    "    pickle.dump(df, out)"
   ]
  },
  {
   "cell_type": "code",
   "execution_count": 2,
   "metadata": {},
   "outputs": [],
   "source": [
    "with open(\"../../data/dataframe.pkl\", 'rb') as inbound:\n",
    "    df = pickle.load(inbound)"
   ]
  },
  {
   "cell_type": "code",
   "execution_count": 10,
   "metadata": {},
   "outputs": [],
   "source": [
    "np.random.seed(7)\n",
    "\n",
    "remove_n = round(df.shape[0]*0.9)\n",
    "drop_indices = np.random.choice(df.index, remove_n, replace=False)\n",
    "df_subset = df.drop(drop_indices)"
   ]
  },
  {
   "cell_type": "code",
   "execution_count": 13,
   "metadata": {},
   "outputs": [],
   "source": [
    "del df"
   ]
  },
  {
   "cell_type": "code",
   "execution_count": 11,
   "metadata": {},
   "outputs": [
    {
     "data": {
      "text/plain": [
       "(3647088, 127)"
      ]
     },
     "execution_count": 11,
     "metadata": {},
     "output_type": "execute_result"
    }
   ],
   "source": [
    "df_subset.shape"
   ]
  },
  {
   "cell_type": "code",
   "execution_count": 12,
   "metadata": {},
   "outputs": [],
   "source": [
    "X_train, X_test, y_train, y_test = train_test_split(df_subset.drop(labels = ['Labels'], axis=1), df_subset[['Labels']], random_state = 7)\n",
    "\n"
   ]
  },
  {
   "cell_type": "code",
   "execution_count": 14,
   "metadata": {},
   "outputs": [],
   "source": [
    "RFM = RandomForestClassifier(n_estimators = 100, n_jobs = -1, random_state = 7)"
   ]
  },
  {
   "cell_type": "code",
   "execution_count": 15,
   "metadata": {},
   "outputs": [
    {
     "name": "stderr",
     "output_type": "stream",
     "text": [
      "<ipython-input-15-37c1713c4963>:1: DataConversionWarning: A column-vector y was passed when a 1d array was expected. Please change the shape of y to (n_samples,), for example using ravel().\n",
      "  RFM.fit(X_train, y_train)\n"
     ]
    },
    {
     "data": {
      "text/plain": [
       "RandomForestClassifier(bootstrap=True, ccp_alpha=0.0, class_weight=None,\n",
       "                       criterion='gini', max_depth=None, max_features='auto',\n",
       "                       max_leaf_nodes=None, max_samples=None,\n",
       "                       min_impurity_decrease=0.0, min_impurity_split=None,\n",
       "                       min_samples_leaf=1, min_samples_split=2,\n",
       "                       min_weight_fraction_leaf=0.0, n_estimators=100,\n",
       "                       n_jobs=-1, oob_score=False, random_state=7, verbose=0,\n",
       "                       warm_start=False)"
      ]
     },
     "execution_count": 15,
     "metadata": {},
     "output_type": "execute_result"
    }
   ],
   "source": [
    "RFM.fit(X_train, y_train)"
   ]
  },
  {
   "cell_type": "code",
   "execution_count": 16,
   "metadata": {},
   "outputs": [],
   "source": [
    "test_preds = RFM.predict(X_test)"
   ]
  },
  {
   "cell_type": "code",
   "execution_count": 30,
   "metadata": {},
   "outputs": [],
   "source": [
    "from sklearn.metrics import accuracy_score, confusion_matrix, plot_confusion_matrix"
   ]
  },
  {
   "cell_type": "code",
   "execution_count": 18,
   "metadata": {},
   "outputs": [
    {
     "data": {
      "text/plain": [
       "0.9548867480027902"
      ]
     },
     "execution_count": 18,
     "metadata": {},
     "output_type": "execute_result"
    }
   ],
   "source": [
    "accuracy_score(y_test, test_preds)"
   ]
  },
  {
   "cell_type": "code",
   "execution_count": 24,
   "metadata": {},
   "outputs": [
    {
     "data": {
      "text/plain": [
       "94.89540696577653"
      ]
     },
     "execution_count": 24,
     "metadata": {},
     "output_type": "execute_result"
    }
   ],
   "source": [
    "df_subset[df_subset['Labels'] == 0].shape[0]/df_subset.shape[0] * 100"
   ]
  },
  {
   "cell_type": "code",
   "execution_count": 32,
   "metadata": {},
   "outputs": [
    {
     "data": {
      "text/plain": [
       "<sklearn.metrics._plot.confusion_matrix.ConfusionMatrixDisplay at 0x13e2a8f70>"
      ]
     },
     "execution_count": 32,
     "metadata": {},
     "output_type": "execute_result"
    },
    {
     "data": {
      "image/png": "[encoded data removed]",
      "text/plain": [
       "<Figure size 432x288 with 2 Axes>"
      ]
     },
     "metadata": {
      "needs_background": "light"
     },
     "output_type": "display_data"
    }
   ],
   "source": [
    "plot_confusion_matrix(RFM, X_test, y_test)"
   ]
  },
  {
   "cell_type": "code",
   "execution_count": 27,
   "metadata": {},
   "outputs": [
    {
     "data": {
      "text/plain": [
       "array([1.32559751e-02, 1.32631385e-02, 1.38495854e-02, 0.00000000e+00,\n",
       "       0.00000000e+00, 1.83940081e-03, 1.24343808e-02, 1.67945409e-02,\n",
       "       1.44826220e-02, 1.54014890e-02, 1.28487977e-02, 0.00000000e+00,\n",
       "       0.00000000e+00, 6.14785247e-03, 7.65559537e-03, 0.00000000e+00,\n",
       "       0.00000000e+00, 0.00000000e+00, 0.00000000e+00, 0.00000000e+00,\n",
       "       0.00000000e+00, 1.29526853e-03, 7.02317078e-04, 1.53724137e-02,\n",
       "       2.24571584e-03, 1.71552844e-02, 1.11714190e-02, 0.00000000e+00,\n",
       "       0.00000000e+00, 2.06613885e-03, 8.96055758e-05, 1.62587776e-02,\n",
       "       1.36820281e-02, 1.56156670e-02, 1.52715121e-02, 0.00000000e+00,\n",
       "       0.00000000e+00, 1.28900987e-03, 6.00105709e-03, 1.29599883e-02,\n",
       "       1.32671612e-02, 1.24038605e-02, 9.56912059e-03, 0.00000000e+00,\n",
       "       0.00000000e+00, 3.69439937e-03, 4.65664221e-03, 0.00000000e+00,\n",
       "       0.00000000e+00, 0.00000000e+00, 0.00000000e+00, 0.00000000e+00,\n",
       "       0.00000000e+00, 3.45777328e-04, 2.62884426e-04, 1.26411483e-02,\n",
       "       8.59471650e-04, 1.09678306e-02, 1.02274925e-02, 0.00000000e+00,\n",
       "       0.00000000e+00, 1.06970408e-04, 2.30444954e-04, 1.28873002e-02,\n",
       "       1.06952127e-02, 1.37870944e-02, 1.31973647e-02, 0.00000000e+00,\n",
       "       0.00000000e+00, 1.96036834e-03, 6.12555079e-03, 1.38606590e-02,\n",
       "       1.34612228e-02, 1.34342838e-02, 1.04968515e-02, 0.00000000e+00,\n",
       "       0.00000000e+00, 4.09422741e-03, 4.96134716e-03, 0.00000000e+00,\n",
       "       0.00000000e+00, 0.00000000e+00, 0.00000000e+00, 0.00000000e+00,\n",
       "       0.00000000e+00, 7.32146949e-05, 5.64323309e-04, 1.39735990e-02,\n",
       "       9.30373076e-04, 1.22228493e-02, 1.06242710e-02, 0.00000000e+00,\n",
       "       0.00000000e+00, 2.15767138e-04, 4.54280717e-04, 1.31654444e-02,\n",
       "       1.12963980e-02, 1.40371863e-02, 1.47023510e-02, 1.24572885e-03,\n",
       "       1.70030540e-02, 1.54651517e-02, 1.79750625e-02, 1.53265080e-02,\n",
       "       2.53923054e-02, 3.85297335e-02, 1.50538618e-02, 1.86527208e-02,\n",
       "       1.19423962e-03, 1.80547056e-02, 1.66514883e-02, 1.87848788e-02,\n",
       "       1.77233079e-02, 1.80283727e-02, 2.15582580e-02, 1.36965192e-02,\n",
       "       1.79404295e-02, 1.22236106e-03, 1.95771461e-02, 1.45577792e-02,\n",
       "       1.64590526e-02, 1.56419379e-02, 1.79470882e-02, 2.60147246e-02,\n",
       "       1.39201401e-02, 1.67791182e-02])"
      ]
     },
     "execution_count": 27,
     "metadata": {},
     "output_type": "execute_result"
    }
   ],
   "source": [
    "RFM.feature_importances_"
   ]
  },
  {
   "cell_type": "code",
   "execution_count": 33,
   "metadata": {},
   "outputs": [],
   "source": [
    "with open(\"RFM.pkl\", 'wb') as out:\n",
    "    pickle.dump(RFM, out)"
   ]
  },
  {
   "cell_type": "code",
   "execution_count": null,
   "metadata": {},
   "outputs": [],
   "source": []
  }
 ],
 "metadata": {
  "kernelspec": {
   "display_name": "EVtrees-env",
   "language": "python",
   "name": "evtrees-env"
  },
  "language_info": {
   "codemirror_mode": {
    "name": "ipython",
    "version": 3
   },
   "file_extension": ".py",
   "mimetype": "text/x-python",
   "name": "python",
   "nbconvert_exporter": "python",
   "pygments_lexer": "ipython3",
   "version": "3.8.1"
  }
 },
 "nbformat": 4,
 "nbformat_minor": 4
}
