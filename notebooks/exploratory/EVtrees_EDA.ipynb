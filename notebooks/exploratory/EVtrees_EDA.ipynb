{
 "cells": [
  {
   "cell_type": "code",
   "execution_count": 10,
   "metadata": {},
   "outputs": [],
   "source": [
    "import matplotlib.pyplot as plt\n",
    "import seaborn as sns\n",
    "import numpy as np\n",
    "from shapely.geometry import Polygon, mapping\n",
    "import geopandas as gpd\n",
    "import rasterio as rio\n",
    "from rasterio.mask import mask\n",
    "from rasterio.plot import show\n",
    "import earthpy as et\n",
    "import earthpy.plot as ep"
   ]
  },
  {
   "cell_type": "markdown",
   "metadata": {},
   "source": [
    "__Idea:__ Train a classifier on the pixels in the mask of the training data (if it exists?), then classify each pixel in the eval data as tree or not."
   ]
  },
  {
   "cell_type": "code",
   "execution_count": 40,
   "metadata": {},
   "outputs": [],
   "source": [
    "dtm_train_path = \"../../data/data/dtm_train.tif\"\n",
    "dsm_train_path = \"../../data/data/dsm_train.tif\"\n",
    "ortho_train_path = \"../../data/data/ortho_train.tif\"\n",
    "ortho_eval_path = \"../../data/eval_data/ortho_eval.tif\""
   ]
  },
  {
   "cell_type": "code",
   "execution_count": 20,
   "metadata": {},
   "outputs": [
    {
     "name": "stdout",
     "output_type": "stream",
     "text": [
      "EPSG:32617\n"
     ]
    }
   ],
   "source": [
    "with rio.open(dtm_train_path) as dtm:\n",
    "    print(dtm.crs)"
   ]
  },
  {
   "cell_type": "code",
   "execution_count": 21,
   "metadata": {},
   "outputs": [
    {
     "data": {
      "text/plain": [
       "BoundingBox(left=274804.78000006, bottom=4603079.993190537, right=275062.7799999895, top=4603433.35924399)"
      ]
     },
     "execution_count": 21,
     "metadata": {},
     "output_type": "execute_result"
    }
   ],
   "source": [
    "dtm.bounds"
   ]
  },
  {
   "cell_type": "code",
   "execution_count": 22,
   "metadata": {},
   "outputs": [
    {
     "data": {
      "text/plain": [
       "(0.193403298298, 0.193413275015)"
      ]
     },
     "execution_count": 22,
     "metadata": {},
     "output_type": "execute_result"
    }
   ],
   "source": [
    "dtm.res"
   ]
  },
  {
   "cell_type": "code",
   "execution_count": null,
   "metadata": {},
   "outputs": [],
   "source": [
    "with rio.open(lidar_dem_path) as src:\n",
    "    # Convert / read the data into a numpy array\n",
    "    # masked = True turns `nodata` values to nan\n",
    "    lidar_dem_im = src.read(1, masked=True)\n",
    "    \n",
    "    # Create a spatial extent object using rio.plot.plotting\n",
    "    spatial_extent = rio.plot.plotting_extent(src)"
   ]
  },
  {
   "cell_type": "code",
   "execution_count": 26,
   "metadata": {},
   "outputs": [
    {
     "name": "stdout",
     "output_type": "stream",
     "text": [
      "{'driver': 'GTiff', 'dtype': 'uint8', 'nodata': None, 'width': 5160, 'height': 7068, 'count': 4, 'crs': CRS.from_epsg(32617), 'transform': Affine(0.0499999999864, 0.0, 274804.78000006,\n",
      "       0.0, -0.0499951971494, 4603433.35924399)}\n"
     ]
    }
   ],
   "source": [
    "with rio.open(ortho_train_path) as ortho:\n",
    "    print(ortho.meta)"
   ]
  },
  {
   "cell_type": "code",
   "execution_count": 33,
   "metadata": {},
   "outputs": [],
   "source": [
    "with rio.open(ortho_train_path) as ortho:\n",
    "    ortho_data = ortho.read(masked = True)"
   ]
  },
  {
   "cell_type": "code",
   "execution_count": 31,
   "metadata": {},
   "outputs": [],
   "source": [
    "with rio.open(ortho_train_path) as ortho:\n",
    "    ortho_masks = ortho.read_masks()"
   ]
  },
  {
   "cell_type": "code",
   "execution_count": 41,
   "metadata": {},
   "outputs": [],
   "source": [
    "with rio.open(ortho_eval_path) as ortho_eval:\n",
    "    ortho_eval_masks = ortho_eval.read_masks()"
   ]
  },
  {
   "cell_type": "markdown",
   "metadata": {},
   "source": [
    "Training data does not have a mask for trees already. Need to create one first.\n",
    "\n",
    "List of things to do:\n",
    "1. Check if all rasters are in same projection and have same dimensions\n",
    "2. Make new mask for canopy height (CHM = DEM - DTM)\n",
    "3. Check if CHM for trees and buildings can be distinguished (threshold for height?)\n",
    "4. Calculate green chromatic coordinate (GCC = green/(green + red + blue)), maybe 0.33-0.4 will be trees\n",
    "5. Make tree mask \n",
    "6. Train ML model (CNN? Decision trees?)"
   ]
  },
  {
   "cell_type": "code",
   "execution_count": 45,
   "metadata": {},
   "outputs": [
    {
     "name": "stdout",
     "output_type": "stream",
     "text": [
      "EPSG:32617 BoundingBox(left=274804.78000006, bottom=4603079.993190537, right=275062.7799999895, top=4603433.35924399) 1334 1827 (0.193403298298, 0.193413275015)\n",
      "EPSG:32617 BoundingBox(left=274804.78000006, bottom=4603079.993190537, right=275062.7799999895, top=4603433.35924399) 1334 1827 (0.193403298298, 0.193413275015)\n",
      "EPSG:32617 BoundingBox(left=274804.78000006, bottom=4603079.993190538, right=275062.7799999898, top=4603433.35924399) 5160 7068 (0.0499999999864, 0.0499951971494)\n",
      "EPSG:32617 BoundingBox(left=274804.78000006, bottom=4603079.993190538, right=275062.7799999898, top=4603433.35924399) 5160 7068 (0.0499999999864, 0.0499951971494)\n"
     ]
    }
   ],
   "source": [
    "paths = [dsm_train_path, dtm_train_path, ortho_train_path, ortho_eval_path]\n",
    "\n",
    "for each in paths:\n",
    "    with rio.open(each) as src:\n",
    "        print(src.crs, src.bounds, src.width, src.height, src.res)"
   ]
  },
  {
   "cell_type": "code",
   "execution_count": null,
   "metadata": {},
   "outputs": [],
   "source": []
  }
 ],
 "metadata": {
  "kernelspec": {
   "display_name": "EVtrees-env",
   "language": "python",
   "name": "evtrees-env"
  },
  "language_info": {
   "codemirror_mode": {
    "name": "ipython",
    "version": 3
   },
   "file_extension": ".py",
   "mimetype": "text/x-python",
   "name": "python",
   "nbconvert_exporter": "python",
   "pygments_lexer": "ipython3",
   "version": "3.8.1"
  }
 },
 "nbformat": 4,
 "nbformat_minor": 4
}
